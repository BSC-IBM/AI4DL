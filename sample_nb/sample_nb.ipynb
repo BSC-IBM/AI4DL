{
 "cells": [
  {
   "cell_type": "markdown",
   "metadata": {},
   "source": [
    "# AI4DL - AI for Deep Learning\n",
    "\n",
    "A sample case for AI4DL.\n",
    "\n",
    "### Load Libraries\n"
   ]
  },
  {
   "cell_type": "code",
   "execution_count": 1,
   "metadata": {},
   "outputs": [],
   "source": [
    "%matplotlib inline\n",
    "\n",
    "import inspect\n",
    "import json\n",
    "import pickle\n",
    "\n",
    "import random\n",
    "import numpy as np \n",
    "import pandas as pd\n",
    "import numexpr as ne\n",
    "import sklearn\n",
    "from sklearn import preprocessing\n",
    "from sklearn import cluster\n",
    "from sklearn.preprocessing import StandardScaler\n",
    "import copy\n",
    "\n",
    "from matplotlib import pyplot as plt \n",
    "\n",
    "from joblib import dump, load\n",
    "\n",
    "import os,sys,inspect"
   ]
  },
  {
   "cell_type": "code",
   "execution_count": 2,
   "metadata": {},
   "outputs": [],
   "source": [
    "sys.path.append('../package')\n",
    "\n",
    "import AI4DL\n",
    "from AI4DL import AI4DL"
   ]
  },
  {
   "cell_type": "markdown",
   "metadata": {},
   "source": [
    "### 0 . Configuration"
   ]
  },
  {
   "cell_type": "code",
   "execution_count": 3,
   "metadata": {},
   "outputs": [],
   "source": [
    "#training_file = \"training.csv\"\n",
    "testing_file = \"sample.csv\"\n",
    "\n",
    "selected_features = [\"cpu.usage\", \"cpu.usage.cores\", \"cpu.usage.pct\", \"cpu.usage.pct.container.requested\", \"mem.current\", \"mem.limit\", \"mem.usage.pct\", \"mem.working.set\"]\n",
    "container_id = \"pod.id\"\n",
    "\n",
    "n_hidden  = 10\n",
    "n_history  = 3\n",
    "learning_rate = 0.001\n",
    "n_epochs = 100\n",
    "n_clusters = 5\n",
    "\n",
    "crbm_save = \"ai4dl_crbm1\"\n",
    "kmeans_save = \"ai4dl_kmeans1.joblib\"\n",
    "scaler_save = \"ai4dl_scaler1.joblib\"\n",
    "\n",
    "palette = {0:'grey', 1:'green', 2:'blue', 3:'red', 4:'orange'}\n",
    "cpu_idx = 0 # cpu.usage\n",
    "mem_idx = 4 # mem.current"
   ]
  },
  {
   "cell_type": "markdown",
   "metadata": {},
   "source": [
    "### 1. Load Datasets\n",
    "\n",
    "Here we will load an already trained model, using the IBM traces from DLaaS, instead of training the model from scratch, but we leave here the code for when a *training* file is available."
   ]
  },
  {
   "cell_type": "code",
   "execution_count": 4,
   "metadata": {},
   "outputs": [],
   "source": [
    "ai4dl1 = AI4DL.AI4DL()\n",
    "#ai4dl1.LoadTrainingDataset(training_file, selected_features, container_id)"
   ]
  },
  {
   "cell_type": "markdown",
   "metadata": {},
   "source": [
    "#### Example Dataset: That's how data looks"
   ]
  },
  {
   "cell_type": "code",
   "execution_count": 5,
   "metadata": {},
   "outputs": [
    {
     "data": {
      "text/html": [
       "<div>\n",
       "<style scoped>\n",
       "    .dataframe tbody tr th:only-of-type {\n",
       "        vertical-align: middle;\n",
       "    }\n",
       "\n",
       "    .dataframe tbody tr th {\n",
       "        vertical-align: top;\n",
       "    }\n",
       "\n",
       "    .dataframe thead th {\n",
       "        text-align: right;\n",
       "    }\n",
       "</style>\n",
       "<table border=\"1\" class=\"dataframe\">\n",
       "  <thead>\n",
       "    <tr style=\"text-align: right;\">\n",
       "      <th></th>\n",
       "      <th>timestamp</th>\n",
       "      <th>service</th>\n",
       "      <th>pod.id</th>\n",
       "      <th>cpu.num.cores</th>\n",
       "      <th>cpu.usage</th>\n",
       "      <th>cpu.usage.cores</th>\n",
       "      <th>cpu.usage.pct</th>\n",
       "      <th>cpu.usage.pct.container.requested</th>\n",
       "      <th>mem.current</th>\n",
       "      <th>mem.limit</th>\n",
       "      <th>mem.usage.pct</th>\n",
       "      <th>mem.working.set</th>\n",
       "    </tr>\n",
       "  </thead>\n",
       "  <tbody>\n",
       "    <tr>\n",
       "      <th>0</th>\n",
       "      <td>1565962220</td>\n",
       "      <td>service1</td>\n",
       "      <td>exec1</td>\n",
       "      <td>4</td>\n",
       "      <td>756911788</td>\n",
       "      <td>0.041</td>\n",
       "      <td>1.03</td>\n",
       "      <td>1.00</td>\n",
       "      <td>2478080</td>\n",
       "      <td>5242880000</td>\n",
       "      <td>0.05</td>\n",
       "      <td>2478080</td>\n",
       "    </tr>\n",
       "    <tr>\n",
       "      <th>1</th>\n",
       "      <td>1565962270</td>\n",
       "      <td>service1</td>\n",
       "      <td>exec1</td>\n",
       "      <td>4</td>\n",
       "      <td>686240513</td>\n",
       "      <td>0.026</td>\n",
       "      <td>0.65</td>\n",
       "      <td>0.63</td>\n",
       "      <td>10842112</td>\n",
       "      <td>5242880000</td>\n",
       "      <td>0.20</td>\n",
       "      <td>10719232</td>\n",
       "    </tr>\n",
       "    <tr>\n",
       "      <th>2</th>\n",
       "      <td>1565962300</td>\n",
       "      <td>service1</td>\n",
       "      <td>exec1</td>\n",
       "      <td>4</td>\n",
       "      <td>679150611</td>\n",
       "      <td>0.029</td>\n",
       "      <td>0.73</td>\n",
       "      <td>0.71</td>\n",
       "      <td>12382208</td>\n",
       "      <td>5242880000</td>\n",
       "      <td>0.23</td>\n",
       "      <td>12259328</td>\n",
       "    </tr>\n",
       "    <tr>\n",
       "      <th>3</th>\n",
       "      <td>1565962340</td>\n",
       "      <td>service1</td>\n",
       "      <td>exec1</td>\n",
       "      <td>4</td>\n",
       "      <td>3303773966</td>\n",
       "      <td>0.180</td>\n",
       "      <td>4.50</td>\n",
       "      <td>4.39</td>\n",
       "      <td>13713408</td>\n",
       "      <td>5242880000</td>\n",
       "      <td>0.26</td>\n",
       "      <td>13590528</td>\n",
       "    </tr>\n",
       "    <tr>\n",
       "      <th>4</th>\n",
       "      <td>1565962350</td>\n",
       "      <td>service1</td>\n",
       "      <td>exec1</td>\n",
       "      <td>4</td>\n",
       "      <td>14934443475</td>\n",
       "      <td>1.049</td>\n",
       "      <td>26.23</td>\n",
       "      <td>25.61</td>\n",
       "      <td>44183552</td>\n",
       "      <td>5242880000</td>\n",
       "      <td>0.69</td>\n",
       "      <td>36032512</td>\n",
       "    </tr>\n",
       "  </tbody>\n",
       "</table>\n",
       "</div>"
      ],
      "text/plain": [
       "    timestamp  service pod.id  cpu.num.cores    cpu.usage  cpu.usage.cores  \\\n",
       "0  1565962220  service1  exec1              4    756911788            0.041   \n",
       "1  1565962270  service1  exec1              4    686240513            0.026   \n",
       "2  1565962300  service1  exec1              4    679150611            0.029   \n",
       "3  1565962340  service1  exec1              4   3303773966            0.180   \n",
       "4  1565962350  service1  exec1              4  14934443475            1.049   \n",
       "\n",
       "   cpu.usage.pct  cpu.usage.pct.container.requested  mem.current   mem.limit  \\\n",
       "0           1.03                               1.00      2478080  5242880000   \n",
       "1           0.65                               0.63     10842112  5242880000   \n",
       "2           0.73                               0.71     12382208  5242880000   \n",
       "3           4.50                               4.39     13713408  5242880000   \n",
       "4          26.23                              25.61     44183552  5242880000   \n",
       "\n",
       "   mem.usage.pct  mem.working.set  \n",
       "0           0.05          2478080  \n",
       "1           0.20         10719232  \n",
       "2           0.23         12259328  \n",
       "3           0.26         13590528  \n",
       "4           0.69         36032512  "
      ]
     },
     "execution_count": 5,
     "metadata": {},
     "output_type": "execute_result"
    }
   ],
   "source": [
    "sample = pd.read_csv(testing_file)\n",
    "sample.head()"
   ]
  },
  {
   "cell_type": "markdown",
   "metadata": {},
   "source": [
    "### 2. Train/Load the model"
   ]
  },
  {
   "cell_type": "markdown",
   "metadata": {},
   "source": [
    "Now we train the model. Here, if the training file is loaded, this will train the model using the previous configuration.\n",
    "\n",
    "(At this time we don't train the model from scratch, but we will load an already trained model)."
   ]
  },
  {
   "cell_type": "code",
   "execution_count": 6,
   "metadata": {},
   "outputs": [],
   "source": [
    "#ai4dl1.TrainModel(n_clusters, n_hidden, n_history, learning_rate, n_epochs, crbm_save, kmeans_save, scaler_save, seed = 123)"
   ]
  },
  {
   "cell_type": "markdown",
   "metadata": {},
   "source": [
    "Here we're loading a model, instead of training it we just laod the CRBM and cluster into AI4DL"
   ]
  },
  {
   "cell_type": "code",
   "execution_count": 7,
   "metadata": {},
   "outputs": [],
   "source": [
    "ai4dl1.LoadModel(crbm_save, kmeans_save, scaler_save)\n",
    "ai4dl1.exec_id = container_id\n",
    "ai4dl1.features = selected_features\n",
    "ai4dl1.n_features = len(selected_features)"
   ]
  },
  {
   "cell_type": "markdown",
   "metadata": {},
   "source": [
    "### 3. Inference of Sequences"
   ]
  },
  {
   "cell_type": "markdown",
   "metadata": {},
   "source": [
    "Here, we would get the training dataset and pass for prediction.\n",
    "* An alternative to **GetTrainingDataset() + Predict()** is to use the function **Evaluate()**"
   ]
  },
  {
   "cell_type": "code",
   "execution_count": 8,
   "metadata": {},
   "outputs": [],
   "source": [
    "#list_of_timeseries_tr = ai4dl1.GetTrainingDataset()\n",
    "#predicted_seq_phases_tr = ai4dl1.Predict(list_of_timeseries_tr)\n",
    "\n",
    "## -> An alternative of the above would be:\n",
    "#predicted_seq_phases_tr = ai4dl1.Evaluate()"
   ]
  },
  {
   "cell_type": "markdown",
   "metadata": {},
   "source": [
    "Now we pass through the test sample.\n",
    "* An alternative to **TransformData() + Predict()** is to use the function **LoadAndPredict()**"
   ]
  },
  {
   "cell_type": "code",
   "execution_count": 9,
   "metadata": {},
   "outputs": [],
   "source": [
    "list_of_timeseries_ts = ai4dl1.TransformData(testing_file)\n",
    "predicted_seq_phases_ts = ai4dl1.Predict(list_of_timeseries_ts)\n",
    "\n",
    "## -> An alternative of the above would be:\n",
    "#predicted_seq_phases_ts = ai4dl1.LoadAndPredict(testing_file)"
   ]
  },
  {
   "cell_type": "markdown",
   "metadata": {},
   "source": [
    "### 4.1 Plot a trace from the Test Sample\n",
    "\n",
    "Notes:\n",
    "- Values of CPU and Mem are scaled/normalized, through the \"scaler\"\n",
    "- \"Green\" phase is warm-up"
   ]
  },
  {
   "cell_type": "code",
   "execution_count": 10,
   "metadata": {},
   "outputs": [
    {
     "data": {
      "image/png": "[encoded data removed]",
      "text/plain": [
       "<Figure size 1440x720 with 3 Axes>"
      ]
     },
     "metadata": {},
     "output_type": "display_data"
    }
   ],
   "source": [
    "selected_exec = 0\n",
    "ai4dl1.PrintTrace(list_of_timeseries_ts, predicted_seq_phases_ts, selected_exec, cpu_idx, mem_idx, palette, col_names = [\"CPU usage\", \"MEM usage\"], f_name = \"trace_11.png\")"
   ]
  },
  {
   "cell_type": "markdown",
   "metadata": {},
   "source": [
    "### 4.2 Plot variance from the Test Sample"
   ]
  },
  {
   "cell_type": "code",
   "execution_count": 11,
   "metadata": {},
   "outputs": [
    {
     "data": {
      "image/png": "[encoded data removed]",
      "text/plain": [
       "<Figure size 1440x432 with 3 Axes>"
      ]
     },
     "metadata": {},
     "output_type": "display_data"
    }
   ],
   "source": [
    "ai4dl1.PrintVarAnalysis(list_of_timeseries_ts, predicted_seq_phases_ts, cpu_idx, mem_idx, palette, col_names = [\"CPU variation\", \"MEM variation\"], f_name = \"variance.png\")"
   ]
  },
  {
   "cell_type": "code",
   "execution_count": null,
   "metadata": {},
   "outputs": [],
   "source": []
  }
 ],
 "metadata": {
  "kernelspec": {
   "display_name": "Python 3",
   "language": "python",
   "name": "python3"
  },
  "language_info": {
   "codemirror_mode": {
    "name": "ipython",
    "version": 3
   },
   "file_extension": ".py",
   "mimetype": "text/x-python",
   "name": "python",
   "nbconvert_exporter": "python",
   "pygments_lexer": "ipython3",
   "version": "3.6.9"
  }
 },
 "nbformat": 4,
 "nbformat_minor": 2
}
